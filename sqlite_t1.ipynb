{
 "cells": [
  {
   "cell_type": "code",
   "execution_count": 1,
   "metadata": {
    "collapsed": true
   },
   "outputs": [],
   "source": [
    "#matplotlib style \n",
    "import sqlite3\n",
    "import time\n",
    "import datetime\n",
    "import random\n",
    "import matplotlib.pyplot as plt\n",
    "import matplotlib.dates as mdates\n",
    "from matplotlib import style\n",
    "plt.style.use('fivethirtyeight')\n",
    "conn=sqlite3.connect('tutorial.db')\n",
    "c=conn.cursor()"
   ]
  },
  {
   "cell_type": "code",
   "execution_count": 95,
   "metadata": {
    "collapsed": true
   },
   "outputs": [],
   "source": [
    "def create_table():\n",
    "    c.execute('CREATE TABLE IF NOT EXISTS stuffToPlot(unix REAL, datestamp TEXT, keyword TEXT, value REAL)')\n",
    "def data_entry():\n",
    "    c.execute('INSERT INTO stuffToPlot VALUES(145123542, \"2016-01-01\", \"Python\", 5)')\n",
    "def dynamic_data_entry():\n",
    "    unix=time.time();# get time stamp\n",
    "    date=str(datetime.datetime.fromtimestamp(unix).strftime('%Y-%m-%d %H:%M:%S'))\n",
    "    keyword='Python'\n",
    "    value=random.randrange(0,10)\n",
    "    c.execute(\"INSERT INTO stuffToPlot (unix, datestamp, keyword, value) VALUES(?,?,?,?)\", (unix, date, keyword, value))\n",
    "    # you can also only select only a few columns\n",
    "def read_from_db():\n",
    "    c.execute('SELECT * FROM stuffToPlot')\n",
    "    data=c.fetchall()\n",
    "    #print(data)\n",
    "    for row in data:\n",
    "        #print(row[0])\n",
    "        print(row)\n",
    "def graph_data():\n",
    "    #c.execute('DELETE FROM stuffToPlot')\n",
    "    c.execute('SELECT unix, value FROM stuffToPlot')\n",
    "    dates=[]\n",
    "    values=[]\n",
    "    for row in c.fetchall():# you are only allowed to fetchall once \n",
    "        #print(row[0])\n",
    "        #print(datetime.datetime.fromtimestamp(row[0]))#get date-time from unix timestamp\n",
    "        dates.append(datetime.datetime.fromtimestamp(row[0]))\n",
    "        values.append(row[1])\n",
    "    plt.plot(dates, values, '-')\n",
    "    plt.show()\n",
    "def del_and_update():\n",
    "    c.execute('SELECT * FROM stuffToPlot')\n",
    "    [print(row)for row in c.fetchall()]\n",
    "    print()\n",
    "    c.execute('UPDATE stuffToPlot set value=6 WHERE value=99')\n",
    "    \n",
    "    c.execute('SELECT * FROM stuffToPlot')\n",
    "    [print(row)for row in c.fetchall()]"
   ]
  },
  {
   "cell_type": "code",
   "execution_count": 96,
   "metadata": {},
   "outputs": [
    {
     "name": "stdout",
     "output_type": "stream",
     "text": [
      "(1504645987.6520224, '2017-09-05 11:13:07', 'Python', 0.0)\n",
      "(1504645988.661296, '2017-09-05 11:13:08', 'Python', 3.0)\n",
      "(1504645989.6734655, '2017-09-05 11:13:09', 'Python', 99.0)\n",
      "(1504645990.6875265, '2017-09-05 11:13:10', 'Python', 3.0)\n",
      "(1504645991.6941302, '2017-09-05 11:13:11', 'Python', 4.0)\n",
      "(1504645992.7065065, '2017-09-05 11:13:12', 'Python', 9.0)\n",
      "(1504645993.7204556, '2017-09-05 11:13:13', 'Python', 9.0)\n",
      "(1504645994.7240334, '2017-09-05 11:13:14', 'Python', 9.0)\n",
      "(1504645995.7289774, '2017-09-05 11:13:15', 'Python', 3.0)\n",
      "(1504645996.7314699, '2017-09-05 11:13:16', 'Python', 7.0)\n",
      "\n",
      "(1504645987.6520224, '2017-09-05 11:13:07', 'Python', 0.0)\n",
      "(1504645988.661296, '2017-09-05 11:13:08', 'Python', 3.0)\n",
      "(1504645989.6734655, '2017-09-05 11:13:09', 'Python', 6.0)\n",
      "(1504645990.6875265, '2017-09-05 11:13:10', 'Python', 3.0)\n",
      "(1504645991.6941302, '2017-09-05 11:13:11', 'Python', 4.0)\n",
      "(1504645992.7065065, '2017-09-05 11:13:12', 'Python', 9.0)\n",
      "(1504645993.7204556, '2017-09-05 11:13:13', 'Python', 9.0)\n",
      "(1504645994.7240334, '2017-09-05 11:13:14', 'Python', 9.0)\n",
      "(1504645995.7289774, '2017-09-05 11:13:15', 'Python', 3.0)\n",
      "(1504645996.7314699, '2017-09-05 11:13:16', 'Python', 7.0)\n"
     ]
    }
   ],
   "source": [
    "#create_table()\n",
    "#data_entry()\n",
    "#for i in range(10):\n",
    "#    dynamic_data_entry()\n",
    "#    time.sleep(1)\n",
    "#read_from_db()\n",
    "#graph_data()\n",
    "del_and_update()\n",
    "conn.commit()\n",
    "c.close()\n",
    "conn.close()"
   ]
  },
  {
   "cell_type": "code",
   "execution_count": null,
   "metadata": {
    "collapsed": true
   },
   "outputs": [],
   "source": []
  },
  {
   "cell_type": "code",
   "execution_count": null,
   "metadata": {
    "collapsed": true
   },
   "outputs": [],
   "source": []
  }
 ],
 "metadata": {
  "kernelspec": {
   "display_name": "Python 3",
   "language": "python",
   "name": "python3"
  },
  "language_info": {
   "codemirror_mode": {
    "name": "ipython",
    "version": 3
   },
   "file_extension": ".py",
   "mimetype": "text/x-python",
   "name": "python",
   "nbconvert_exporter": "python",
   "pygments_lexer": "ipython3",
   "version": "3.6.1"
  }
 },
 "nbformat": 4,
 "nbformat_minor": 2
}
